{
  "nbformat": 4,
  "nbformat_minor": 0,
  "metadata": {
    "colab": {
      "provenance": []
    },
    "kernelspec": {
      "name": "python3",
      "display_name": "Python 3"
    },
    "language_info": {
      "name": "python"
    }
  },
  "cells": [
    {
      "cell_type": "code",
      "execution_count": null,
      "metadata": {
        "id": "CNVQpbUcWaWR"
      },
      "outputs": [],
      "source": [
        "import numpy as np"
      ]
    },
    {
      "cell_type": "code",
      "source": [
        "#Initialize input X, weights wh, biases bh, output weights wout, and output bias bout\n",
        "# Input X\n",
        "X = np.array([\n",
        "    [1, 0, 1, 0],\n",
        "    [1, 0, 1, 1],\n",
        "    [0, 1, 0, 1]\n",
        "])\n",
        "\n",
        "# Target Output Y\n",
        "Y = np.array([1, 1, 0])\n",
        "\n",
        "# Weights and Biases\n",
        "wh = np.array([\n",
        "    [0.42, 0.88, 0.55],\n",
        "    [0.10, 0.73, 0.68],\n",
        "    [0.60, 0.18, 0.47],\n",
        "    [0.92, 0.11, 0.52]\n",
        "])\n",
        "\n",
        "bh = np.array([0.46, 0.72, 0.08])\n",
        "\n",
        "wout = np.array([0.30, 0.25, 0.23])\n",
        "bout = 0.69\n"
      ],
      "metadata": {
        "id": "WRXdkS3dWmwZ"
      },
      "execution_count": null,
      "outputs": []
    },
    {
      "cell_type": "markdown",
      "source": [
        "# Define activation function (Sigmoid) and Sigmoid derivative"
      ],
      "metadata": {
        "id": "mby_hXnPW8kG"
      }
    },
    {
      "cell_type": "code",
      "source": [
        "def sigmoid(x):\n",
        "    return 1 / (1 + np.exp(-x))\n",
        "def sigmoid_derivative(x):\n",
        "    return x * (1 - x)"
      ],
      "metadata": {
        "id": "2llothkyW5vI"
      },
      "execution_count": null,
      "outputs": []
    },
    {
      "cell_type": "markdown",
      "source": [
        "# Forward Propagation"
      ],
      "metadata": {
        "id": "cNlo79qQXDN0"
      }
    },
    {
      "cell_type": "code",
      "source": [
        "# Hidden layer input\n",
        "hidden_layer_input = np.dot(X, wh) + bh\n",
        "\n",
        "# Hidden layer activations\n",
        "hidden_layer_activations = sigmoid(hidden_layer_input)\n",
        "\n",
        "# Output layer input\n",
        "output_layer_input = np.dot(hidden_layer_activations, wout) + bout\n",
        "\n",
        "# Output layer activation (final output)\n",
        "output = sigmoid(output_layer_input)\n"
      ],
      "metadata": {
        "id": "4DxSQ5wLXBLm"
      },
      "execution_count": null,
      "outputs": []
    },
    {
      "cell_type": "markdown",
      "source": [
        "# Calculate Error"
      ],
      "metadata": {
        "id": "z2KygxbfXI-g"
      }
    },
    {
      "cell_type": "code",
      "source": [
        "# Error\n",
        "error = Y - output\n"
      ],
      "metadata": {
        "id": "dQmJslJzXG0s"
      },
      "execution_count": null,
      "outputs": []
    },
    {
      "cell_type": "code",
      "source": [
        "print(\"Hidden Layer Input:\\n\", hidden_layer_input)\n",
        "print(\"\\nHidden Layer Activations:\\n\", hidden_layer_activations)\n",
        "print(\"\\nOutput Layer Input:\\n\", output_layer_input)\n",
        "print(\"\\nOutput:\\n\", output)\n",
        "print(\"\\nError:\\n\", error)"
      ],
      "metadata": {
        "colab": {
          "base_uri": "https://localhost:8080/"
        },
        "id": "qxSj7C2jXM60",
        "outputId": "453e4155-dd95-4238-8421-601617c32ab2"
      },
      "execution_count": null,
      "outputs": [
        {
          "output_type": "stream",
          "name": "stdout",
          "text": [
            "Hidden Layer Input:\n",
            " [[1.48 1.78 1.1 ]\n",
            " [2.4  1.89 1.62]\n",
            " [1.48 1.56 1.28]]\n",
            "\n",
            "Hidden Layer Activations:\n",
            " [[0.81457258 0.85569687 0.75026011]\n",
            " [0.9168273  0.86875553 0.83479513]\n",
            " [0.81457258 0.82635335 0.78244978]]\n",
            "\n",
            "Output Layer Input:\n",
            " [1.32085581 1.37423995 1.32092356]\n",
            "\n",
            "Output:\n",
            " [0.78932406 0.79806432 0.78933532]\n",
            "\n",
            "Error:\n",
            " [ 0.21067594  0.20193568 -0.78933532]\n"
          ]
        }
      ]
    },
    {
      "cell_type": "markdown",
      "source": [
        "# Backpropagation"
      ],
      "metadata": {
        "id": "UhpjozaDXqVk"
      }
    },
    {
      "cell_type": "code",
      "source": [
        "slope_output_layer = sigmoid_derivative(output)\n",
        "delta_output = error * slope_output_layer\n",
        "\n",
        "error_at_hidden_layer = delta_output[:, np.newaxis] * wout\n",
        "slope_hidden_layer = sigmoid_derivative(hidden_layer_activations)\n",
        "delta_hidden_layer = error_at_hidden_layer * slope_hidden_layer"
      ],
      "metadata": {
        "id": "LNNklsbFXrTq"
      },
      "execution_count": null,
      "outputs": []
    },
    {
      "cell_type": "markdown",
      "source": [
        "## Update Output layer weights and biases"
      ],
      "metadata": {
        "id": "LhEmFHZ7YG3_"
      }
    },
    {
      "cell_type": "code",
      "source": [
        "# Learning rate\n",
        "lr = 0.1\n",
        "wout += hidden_layer_activations.T.dot(delta_output) * lr\n",
        "bout += np.sum(delta_output) * lr"
      ],
      "metadata": {
        "id": "uDRxqN17YB2U"
      },
      "execution_count": null,
      "outputs": []
    },
    {
      "cell_type": "markdown",
      "source": [
        "## Update Hidden layer weights and biases"
      ],
      "metadata": {
        "id": "KrW-9spYYUe4"
      }
    },
    {
      "cell_type": "code",
      "source": [
        "# Update Hidden layer weights and biases\n",
        "wh += X.T.dot(delta_hidden_layer) * lr\n",
        "bh += np.sum(delta_hidden_layer, axis=0) * lr"
      ],
      "metadata": {
        "id": "-fSeAhHdYRfd"
      },
      "execution_count": null,
      "outputs": []
    },
    {
      "cell_type": "code",
      "source": [
        "# Print updated weights and biases\n",
        "print(\"\\nUpdated wh:\\n\", wh)\n",
        "print(\"\\nUpdated bh:\\n\", bh)\n",
        "print(\"\\nUpdated wout:\\n\", wout)\n",
        "print(\"\\nUpdated bout:\\n\", bout)"
      ],
      "metadata": {
        "id": "D7vOIn40YZdj",
        "outputId": "6744a469-d65d-46d4-f6a5-a8163913756f",
        "colab": {
          "base_uri": "https://localhost:8080/"
        }
      },
      "execution_count": null,
      "outputs": [
        {
          "output_type": "stream",
          "name": "stdout",
          "text": [
            "\n",
            "Updated wh:\n",
            " [[0.4202332  0.88020091 0.55025421]\n",
            " [0.09940524 0.72952915 0.67948612]\n",
            " [0.6002332  0.18020091 0.47025421]\n",
            " [0.91947969 0.10962191 0.51958935]]\n",
            "\n",
            "Updated bh:\n",
            " [0.45963844 0.71973006 0.07974033]\n",
            "\n",
            "Updated wout:\n",
            " [0.29514577 0.24497878 0.22507513]\n",
            "\n",
            "Updated bout:\n",
            " 0.6836322439645574\n"
          ]
        }
      ]
    }
  ]
}
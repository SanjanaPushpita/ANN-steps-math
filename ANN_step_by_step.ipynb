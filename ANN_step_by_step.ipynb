{
  "nbformat": 4,
  "nbformat_minor": 0,
  "metadata": {
    "colab": {
      "provenance": [],
      "authorship_tag": "ABX9TyPZlXkd9a4wrD73jPWSvO5I",
      "include_colab_link": true
    },
    "kernelspec": {
      "name": "python3",
      "display_name": "Python 3"
    },
    "language_info": {
      "name": "python"
    }
  },
  "cells": [
    {
      "cell_type": "markdown",
      "metadata": {
        "id": "view-in-github",
        "colab_type": "text"
      },
      "source": [
        "<a href=\"https://colab.research.google.com/github/SanjanaPushpita/ANN-steps-math/blob/main/ANN_step_by_step.ipynb\" target=\"_parent\"><img src=\"https://colab.research.google.com/assets/colab-badge.svg\" alt=\"Open In Colab\"/></a>"
      ]
    },
    {
      "cell_type": "code",
      "execution_count": 1,
      "metadata": {
        "id": "CNVQpbUcWaWR"
      },
      "outputs": [],
      "source": [
        "import numpy as np"
      ]
    },
    {
      "cell_type": "code",
      "source": [
        "#Initialize input X, weights wh, biases bh, output weights wout, and output bias bout\n",
        "# Input X\n",
        "X = np.array([\n",
        "    [1, 1, 0, 0],\n",
        "    [0, 1, 0, 1],\n",
        "    [1, 0, 1, 0]\n",
        "])\n",
        "\n",
        "# Target Output Y\n",
        "Y = np.array([1, 1, 1])\n",
        "\n",
        "# Weights and Biases\n",
        "wh = np.array([\n",
        "    [0.42, 0.32, 0.22],\n",
        "    [0.11, 0.22, 0.52],\n",
        "    [0.98, 0.62, 0.77],\n",
        "    [0.88, 0.18, 0.60]\n",
        "])\n",
        "\n",
        "bh = np.array([0.56, 0.88, 0.07])\n",
        "\n",
        "wout = np.array([0.40, 0.73, 0.52])\n",
        "bout = 0.72\n"
      ],
      "metadata": {
        "id": "WRXdkS3dWmwZ"
      },
      "execution_count": 2,
      "outputs": []
    },
    {
      "cell_type": "markdown",
      "source": [
        "# Define activation function (Sigmoid) and Sigmoid derivative"
      ],
      "metadata": {
        "id": "mby_hXnPW8kG"
      }
    },
    {
      "cell_type": "code",
      "source": [
        "def sigmoid(x):\n",
        "    return 1 / (1 + np.exp(-x))\n",
        "def sigmoid_derivative(x):\n",
        "    return x * (1 - x)"
      ],
      "metadata": {
        "id": "2llothkyW5vI"
      },
      "execution_count": 3,
      "outputs": []
    },
    {
      "cell_type": "markdown",
      "source": [
        "# Forward Propagation"
      ],
      "metadata": {
        "id": "cNlo79qQXDN0"
      }
    },
    {
      "cell_type": "code",
      "source": [
        "# Hidden layer input\n",
        "hidden_layer_input = np.dot(X, wh) + bh\n",
        "\n",
        "# Hidden layer activations\n",
        "hidden_layer_activations = sigmoid(hidden_layer_input)\n",
        "\n",
        "# Output layer input\n",
        "output_layer_input = np.dot(hidden_layer_activations, wout) + bout\n",
        "\n",
        "# Output layer activation (final output)\n",
        "output = sigmoid(output_layer_input)\n"
      ],
      "metadata": {
        "id": "4DxSQ5wLXBLm"
      },
      "execution_count": 4,
      "outputs": []
    },
    {
      "cell_type": "markdown",
      "source": [
        "# Calculate Error"
      ],
      "metadata": {
        "id": "z2KygxbfXI-g"
      }
    },
    {
      "cell_type": "code",
      "source": [
        "# Error\n",
        "error = Y - output\n"
      ],
      "metadata": {
        "id": "dQmJslJzXG0s"
      },
      "execution_count": 5,
      "outputs": []
    },
    {
      "cell_type": "code",
      "source": [
        "print(\"Hidden Layer Input:\\n\", hidden_layer_input)\n",
        "print(\"\\nHidden Layer Activations:\\n\", hidden_layer_activations)\n",
        "print(\"\\nOutput Layer Input:\\n\", output_layer_input)\n",
        "print(\"\\nOutput:\\n\", output)\n",
        "print(\"\\nError:\\n\", error)"
      ],
      "metadata": {
        "colab": {
          "base_uri": "https://localhost:8080/"
        },
        "id": "qxSj7C2jXM60",
        "outputId": "f97b8853-101f-4d05-fbd9-40ffef64e3e8"
      },
      "execution_count": 6,
      "outputs": [
        {
          "output_type": "stream",
          "name": "stdout",
          "text": [
            "Hidden Layer Input:\n",
            " [[1.09 1.42 0.81]\n",
            " [1.55 1.28 1.19]\n",
            " [1.96 1.82 1.06]]\n",
            "\n",
            "Hidden Layer Activations:\n",
            " [[0.74838172 0.80533842 0.6921095 ]\n",
            " [0.82491373 0.78244978 0.76674106]\n",
            " [0.87653295 0.86056613 0.74269055]]\n",
            "\n",
            "Output Layer Input:\n",
            " [1.96714667 2.01985918 2.08502554]\n",
            "\n",
            "Output:\n",
            " [0.87730431 0.88286645 0.8894392 ]\n",
            "\n",
            "Error:\n",
            " [0.12269569 0.11713355 0.1105608 ]\n"
          ]
        }
      ]
    },
    {
      "cell_type": "markdown",
      "source": [
        "# Backpropagation"
      ],
      "metadata": {
        "id": "UhpjozaDXqVk"
      }
    },
    {
      "cell_type": "code",
      "source": [
        "lr = 0.1"
      ],
      "metadata": {
        "id": "rOMV-JXVnE8V"
      },
      "execution_count": 7,
      "outputs": []
    },
    {
      "cell_type": "code",
      "source": [
        "slope_output_layer = sigmoid_derivative(output)\n",
        "delta_output = error * slope_output_layer *lr\n",
        "\n",
        "error_at_hidden_layer = delta_output[:, np.newaxis] * wout #This reshapes delta_output from shape (3,) to shape (3,1).\n",
        "slope_hidden_layer = sigmoid_derivative(hidden_layer_activations)\n",
        "delta_hidden_layer = error_at_hidden_layer * slope_hidden_layer"
      ],
      "metadata": {
        "id": "LNNklsbFXrTq"
      },
      "execution_count": 8,
      "outputs": []
    },
    {
      "cell_type": "code",
      "source": [
        "print(\"Slope Output Layer:\\n\", slope_output_layer)\n",
        "print(\"\\nDelta Output:\\n\", delta_output)\n",
        "print(\"\\nError at Hidden Layer:\\n\", error_at_hidden_layer)\n",
        "print(\"\\nSlope Hidden Layer:\\n\", slope_hidden_layer)"
      ],
      "metadata": {
        "colab": {
          "base_uri": "https://localhost:8080/"
        },
        "id": "VtDgx6HempIm",
        "outputId": "0f6ac0b9-5127-4569-c44f-7c446d0988ff"
      },
      "execution_count": 9,
      "outputs": [
        {
          "output_type": "stream",
          "name": "stdout",
          "text": [
            "Slope Output Layer:\n",
            " [0.10764146 0.10341328 0.09833711]\n",
            "\n",
            "Delta Output:\n",
            " [0.00132071 0.00121132 0.00108722]\n",
            "\n",
            "Error at Hidden Layer:\n",
            " [[0.00052829 0.00096412 0.00068677]\n",
            " [0.00048453 0.00088426 0.00062988]\n",
            " [0.00043489 0.00079367 0.00056536]]\n",
            "\n",
            "Slope Hidden Layer:\n",
            " [[0.18830652 0.15676845 0.21309394]\n",
            " [0.14443107 0.17022212 0.1788492 ]\n",
            " [0.10822294 0.11999207 0.1911013 ]]\n"
          ]
        }
      ]
    },
    {
      "cell_type": "markdown",
      "source": [
        "## Update Output layer weights and biases"
      ],
      "metadata": {
        "id": "LhEmFHZ7YG3_"
      }
    },
    {
      "cell_type": "code",
      "source": [
        "# Learning rate\n",
        "\n",
        "wout += hidden_layer_activations.T.dot(delta_output) * lr\n",
        "bout += np.sum(delta_output) * lr"
      ],
      "metadata": {
        "id": "uDRxqN17YB2U"
      },
      "execution_count": 10,
      "outputs": []
    },
    {
      "cell_type": "code",
      "source": [
        "print(\"\\nUpdated wout:\\n\", wout)\n",
        "print(\"\\nUpdated bout:\\n\", bout)"
      ],
      "metadata": {
        "colab": {
          "base_uri": "https://localhost:8080/"
        },
        "id": "kI_Rf9z8eoVi",
        "outputId": "dacb49e1-d217-4c32-eda6-91daa1a52ff2"
      },
      "execution_count": 22,
      "outputs": [
        {
          "output_type": "stream",
          "name": "stdout",
          "text": [
            "\n",
            "Updated wout:\n",
            " [0.40029406 0.7302947  0.52026503]\n",
            "\n",
            "Updated bout:\n",
            " 0.7203619253848159\n"
          ]
        }
      ]
    },
    {
      "cell_type": "markdown",
      "source": [
        "## Update Hidden layer weights and biases"
      ],
      "metadata": {
        "id": "KrW-9spYYUe4"
      }
    },
    {
      "cell_type": "code",
      "source": [
        "# Update Hidden layer weights and biases\n",
        "wh += X.T.dot(delta_hidden_layer) * lr\n",
        "bh += np.sum(delta_hidden_layer, axis=1) * lr"
      ],
      "metadata": {
        "id": "-fSeAhHdYRfd"
      },
      "execution_count": 23,
      "outputs": []
    },
    {
      "cell_type": "code",
      "source": [
        "print(\"\\nUpdated wh:\\n\", wh)\n",
        "print(\"\\nUpdated bh:\\n\", bh)"
      ],
      "metadata": {
        "colab": {
          "base_uri": "https://localhost:8080/"
        },
        "id": "A_9IS2kZeqNN",
        "outputId": "77ff5e4c-13d1-4ee0-e9e5-3d00f935550d"
      },
      "execution_count": 24,
      "outputs": [
        {
          "output_type": "stream",
          "name": "stdout",
          "text": [
            "\n",
            "Updated wh:\n",
            " [[0.41991299 0.31982405 0.22000697]\n",
            " [0.10995351 0.21991081 0.51999633]\n",
            " [0.97991817 0.61988155 0.7699964 ]\n",
            " [0.87995869 0.17996831 0.59998576]]\n",
            "\n",
            "Updated bh:\n",
            " [0.55994789 0.87991276 0.06979613]\n"
          ]
        }
      ]
    }
  ]
}